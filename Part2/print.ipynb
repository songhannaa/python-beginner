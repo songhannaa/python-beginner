{
 "cells": [
  {
   "cell_type": "code",
   "execution_count": null,
   "metadata": {},
   "outputs": [],
   "source": [
    "# print(*valuse, sep, end)"
   ]
  },
  {
   "cell_type": "code",
   "execution_count": 1,
   "metadata": {},
   "outputs": [
    {
     "name": "stdout",
     "output_type": "stream",
     "text": [
      "1 2 3 머쓱이\n"
     ]
    }
   ],
   "source": [
    "print(1, 2, 3, \"머쓱이\")"
   ]
  },
  {
   "cell_type": "code",
   "execution_count": 4,
   "metadata": {},
   "outputs": [
    {
     "name": "stdout",
     "output_type": "stream",
     "text": [
      "1-2-3-머쓱이\n"
     ]
    }
   ],
   "source": [
    "print(1, 2, 3, \"머쓱이\", sep=\"-\")\n",
    "# sep 안에 나눠주는 문자 입력 가능"
   ]
  },
  {
   "cell_type": "code",
   "execution_count": 7,
   "metadata": {},
   "outputs": [
    {
     "name": "stdout",
     "output_type": "stream",
     "text": [
      "1 2 3 머쓱이입니다\n",
      "\n",
      "테스트\n"
     ]
    }
   ],
   "source": [
    "print(1, 2, 3, \"머쓱이\" , end='입니다\\n\\n')\n",
    "print(\"테스트\")"
   ]
  },
  {
   "cell_type": "code",
   "execution_count": 8,
   "metadata": {},
   "outputs": [
    {
     "name": "stdout",
     "output_type": "stream",
     "text": [
      "1\t2\t3\t머쓱이\n",
      "\n",
      "테스트\n"
     ]
    }
   ],
   "source": [
    "print(1, 2, 3, \"머쓱이\", sep='\\t', end='\\n\\n')\n",
    "print(\"테스트\")"
   ]
  },
  {
   "cell_type": "code",
   "execution_count": null,
   "metadata": {},
   "outputs": [],
   "source": []
  }
 ],
 "metadata": {
  "kernelspec": {
   "display_name": "Python 3",
   "language": "python",
   "name": "python3"
  },
  "language_info": {
   "codemirror_mode": {
    "name": "ipython",
    "version": 3
   },
   "file_extension": ".py",
   "mimetype": "text/x-python",
   "name": "python",
   "nbconvert_exporter": "python",
   "pygments_lexer": "ipython3",
   "version": "3.12.2"
  }
 },
 "nbformat": 4,
 "nbformat_minor": 2
}
